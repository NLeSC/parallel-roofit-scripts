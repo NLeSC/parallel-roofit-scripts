{
 "cells": [
  {
   "cell_type": "code",
   "execution_count": null,
   "metadata": {},
   "outputs": [],
   "source": [
    "import ROOT\n",
    "ROOT.RooMsgService.instance().setGlobalKillBelow(5)"
   ]
  },
  {
   "cell_type": "code",
   "execution_count": null,
   "metadata": {},
   "outputs": [],
   "source": [
    "from Builder import get_workspace"
   ]
  },
  {
   "cell_type": "code",
   "execution_count": null,
   "metadata": {},
   "outputs": [],
   "source": [
    "workspace = get_workspace(nchannels = 3, events = 1000, nbins = 1, nnps = 3)"
   ]
  },
  {
   "cell_type": "markdown",
   "metadata": {},
   "source": [
    "ok that seemed to work"
   ]
  },
  {
   "cell_type": "code",
   "execution_count": null,
   "metadata": {},
   "outputs": [],
   "source": [
    "events = 1000\n",
    "chans = 1\n",
    "nps = 1\n",
    "for bins in [1,10,20,30,40,50,60,70,80,90,100]:\n",
    "    workspace = get_workspace(nchannels = chans, events = events, nbins = bins, nnps = nps)\n",
    "    workspace.SetName('BinnedWorkspace')\n",
    "    workspace.writeToFile(\"output/workspace{}channels{}events{}bins{}nps.root\".format(chans, events, bins, nps))"
   ]
  },
  {
   "cell_type": "code",
   "execution_count": null,
   "metadata": {},
   "outputs": [],
   "source": [
    "events = 1000\n",
    "chans = 1\n",
    "nps = 1\n",
    "bins = 10\n",
    "for events in [1000,100000,10000000]:\n",
    "    workspace = get_workspace(nchannels = chans, events = events, nbins = bins, nnps = nps)\n",
    "    workspace.SetName('BinnedWorkspace')\n",
    "    workspace.writeToFile(\"output/workspace{}channels{}events{}bins{}nps.root\".format(chans, events, bins, nps))"
   ]
  },
  {
   "cell_type": "code",
   "execution_count": null,
   "metadata": {},
   "outputs": [],
   "source": [
    "events = 1000\n",
    "chans = 1\n",
    "nps = 1\n",
    "bins = 10\n",
    "for chans in range(1,10):\n",
    "    workspace = get_workspace(nchannels = chans, events = events, nbins = bins, nnps = nps)\n",
    "    workspace.SetName('BinnedWorkspace')\n",
    "    workspace.writeToFile(\"output/workspace{}channels{}events{}bins{}nps.root\".format(chans, events, bins, nps))"
   ]
  },
  {
   "cell_type": "code",
   "execution_count": null,
   "metadata": {},
   "outputs": [],
   "source": [
    "events = 1000\n",
    "chans = 1\n",
    "nps = 1\n",
    "bins = 10\n",
    "for nps in range(10):\n",
    "    workspace = get_workspace(nchannels = chans, events = events, nbins = bins, nnps = nps)\n",
    "    workspace.SetName('BinnedWorkspace')\n",
    "    workspace.writeToFile(\"output/workspace{}channels{}events{}bins{}nps.root\".format(chans, events, bins, nps))"
   ]
  },
  {
   "cell_type": "code",
   "execution_count": null,
   "metadata": {},
   "outputs": [],
   "source": []
  }
 ],
 "metadata": {
  "language_info": {
   "name": "python",
   "pygments_lexer": "ipython3"
  }
 },
 "nbformat": 4,
 "nbformat_minor": 2
}
