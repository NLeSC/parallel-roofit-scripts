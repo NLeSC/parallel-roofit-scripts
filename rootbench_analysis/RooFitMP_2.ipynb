{
 "cells": [
  {
   "cell_type": "code",
   "execution_count": null,
   "metadata": {},
   "outputs": [],
   "source": [
    "%matplotlib inline"
   ]
  },
  {
   "cell_type": "code",
   "execution_count": null,
   "metadata": {},
   "outputs": [],
   "source": [
    "%load_ext autoreload"
   ]
  },
  {
   "cell_type": "code",
   "execution_count": null,
   "metadata": {},
   "outputs": [],
   "source": [
    "%autoreload 3"
   ]
  },
  {
   "cell_type": "code",
   "execution_count": null,
   "metadata": {},
   "outputs": [],
   "source": [
    "import numpy as np\n",
    "import pandas as pd\n",
    "import matplotlib.pyplot as plt\n",
    "\n",
    "from RooFitMP_analysis import *"
   ]
  },
  {
   "cell_type": "code",
   "execution_count": null,
   "metadata": {},
   "outputs": [],
   "source": [
    "df_split_timings_1538069 = build_comb_df_split_timing_info('../rootbench/1538069.burrell.nikhef.nl.out')\n",
    "dfs_1538069 = load_result_file('../rootbench/1538069.burrell.nikhef.nl/RoofitMPworkspace_1549966927.json', match_y_axes=True)"
   ]
  },
  {
   "cell_type": "code",
   "execution_count": null,
   "metadata": {},
   "outputs": [],
   "source": [
    "df_total_timings_1538069 = dfs_1538069['BM_RooFit_MP_GradMinimizer_workspace_file']\n",
    "df_meta_1538069 = df_total_timings_1538069.drop(['real_time', 'real or ideal'], axis=1).dropna().set_index('benchmark_number', drop=True)"
   ]
  },
  {
   "cell_type": "code",
   "execution_count": null,
   "metadata": {},
   "outputs": [],
   "source": [
    "df_baseline_timings_1538069 = dfs_1538069['BM_RooFit_RooMinimizer_workspace_file']\n",
    "vanilla_t, vanilla_t_std = df_baseline_timings_1538069['real_time'].mean() / 1000, df_baseline_timings_1538069['real_time'].std() / 1000"
   ]
  },
  {
   "cell_type": "code",
   "execution_count": null,
   "metadata": {},
   "outputs": [],
   "source": [
    "_df = combine_detailed_with_gbench_timings_by_name(df_total_timings_1538069,\n",
    "                                                   df_split_timings_1538069,\n",
    "                                                   {'update': 'update state',\n",
    "                                                    'gradient': 'gradient work',\n",
    "                                                    'terminate': 'terminate'},\n",
    "                                                   add_ideal=['gradient'])\n",
    "_g = sns.relplot(data=_df,\n",
    "                x='NumCPU', y='time [s]', style=\"real or ideal\",\n",
    "                hue='timing_type',\n",
    "                markers=True, err_style=\"bars\", legend='full', kind=\"line\")\n",
    "\n",
    "linestyle = {'color': 'black', 'lw': 0.7}\n",
    "_g.axes[0,0].axhline(vanilla_t, **linestyle)\n",
    "_g.axes[0,0].axhline(vanilla_t - vanilla_t_std, alpha=0.5, **linestyle)\n",
    "_g.axes[0,0].axhline(vanilla_t + vanilla_t_std, alpha=0.5, **linestyle)"
   ]
  },
  {
   "cell_type": "code",
   "execution_count": null,
   "metadata": {},
   "outputs": [],
   "source": [
    "_timing_types = {\n",
    "    'update': 'update state',\n",
    "    'gradient': 'gradient work',\n",
    "    'terminate': 'terminate',\n",
    "    'partial derivatives': 'partial derivative'\n",
    "}\n",
    "_df = combine_detailed_with_gbench_timings_by_name(df_total_timings_1538069,\n",
    "                                                   df_split_timings_1538069,\n",
    "                                                   timing_types=_timing_types,\n",
    "                                                   add_ideal=['gradient'],\n",
    "                                                   exclude_from_rest=['partial derivatives'])\n",
    "_g = sns.relplot(data=_df,\n",
    "            x='NumCPU', y='time [s]', style=\"real or ideal\",\n",
    "            hue='timing_type',\n",
    "            markers=True, err_style=\"bars\", legend='full', kind=\"line\")\n",
    "\n",
    "linestyle = {'color': 'black', 'lw': 0.7}\n",
    "_g.axes[0,0].axhline(vanilla_t, **linestyle)\n",
    "_g.axes[0,0].axhline(vanilla_t - vanilla_t_std, alpha=0.5, **linestyle)\n",
    "_g.axes[0,0].axhline(vanilla_t + vanilla_t_std, alpha=0.5, **linestyle)"
   ]
  },
  {
   "cell_type": "markdown",
   "metadata": {},
   "source": [
    "# Run with optConst = 1"
   ]
  },
  {
   "cell_type": "code",
   "execution_count": null,
   "metadata": {},
   "outputs": [],
   "source": [
    "df_split_timings_1604382 = build_comb_df_split_timing_info('../rootbench/1604382.burrell.nikhef.nl.out')"
   ]
  },
  {
   "cell_type": "code",
   "execution_count": null,
   "metadata": {},
   "outputs": [],
   "source": [
    "dfs_1604382 = load_result_file('../rootbench/1604382.burrell.nikhef.nl/RoofitMPworkspaceNoOptConst_1551699016.json', match_y_axes=True)"
   ]
  },
  {
   "cell_type": "code",
   "execution_count": null,
   "metadata": {},
   "outputs": [],
   "source": [
    "df_total_timings_1604382 = dfs_1604382['BM_RooFit_MP_GradMinimizer_workspace_file_noOptConst']\n",
    "df_meta_1604382 = df_total_timings_1604382.drop(['real_time', 'real or ideal'], axis=1).dropna().set_index('benchmark_number', drop=True)\n",
    "\n",
    "df_baseline_timings_1604382 = dfs_1604382['BM_RooFit_RooMinimizer_workspace_file_noOptConst']\n",
    "vanilla_t, vanilla_t_std = df_baseline_timings_1604382['real_time'].mean() / 1000, df_baseline_timings_1604382['real_time'].std() / 1000"
   ]
  },
  {
   "cell_type": "code",
   "execution_count": null,
   "metadata": {},
   "outputs": [],
   "source": [
    "_timing_types = {\n",
    "    'update': 'update state',\n",
    "    'gradient': 'gradient work',\n",
    "    'terminate': 'terminate',\n",
    "    'partial derivatives': 'partial derivative'\n",
    "}\n",
    "_df = combine_detailed_with_gbench_timings_by_name(df_total_timings_1604382,\n",
    "                                                   df_split_timings_1604382,\n",
    "                                                   timing_types=_timing_types,\n",
    "                                                   add_ideal=['gradient'],\n",
    "                                                   exclude_from_rest=['partial derivatives'])\n",
    "_g = sns.relplot(data=_df,\n",
    "            x='NumCPU', y='time [s]', style=\"real or ideal\",\n",
    "            hue='timing_type',\n",
    "            markers=True, err_style=\"bars\", legend='full', kind=\"line\")\n",
    "\n",
    "linestyle = {'color': 'black', 'lw': 0.7}\n",
    "_g.axes[0,0].axhline(vanilla_t, **linestyle)\n",
    "_g.axes[0,0].axhline(vanilla_t - vanilla_t_std, alpha=0.5, **linestyle)\n",
    "_g.axes[0,0].axhline(vanilla_t + vanilla_t_std, alpha=0.5, **linestyle)"
   ]
  },
  {
   "cell_type": "markdown",
   "metadata": {},
   "source": [
    "# Large workspace run"
   ]
  },
  {
   "cell_type": "code",
   "execution_count": null,
   "metadata": {},
   "outputs": [],
   "source": [
    "df_split_timings_1604381 = build_comb_df_split_timing_info('../rootbench/1604381.burrell.nikhef.nl.out')"
   ]
  },
  {
   "cell_type": "code",
   "execution_count": null,
   "metadata": {},
   "outputs": [],
   "source": [
    "dfs_1604381 = load_result_file('../rootbench/1604381.burrell.nikhef.nl/RoofitMPworkspace_1551694135.json', match_y_axes=True)"
   ]
  },
  {
   "cell_type": "markdown",
   "metadata": {},
   "source": [
    "Ok, that one failed after 4 runs, but let's see how that went anyway to get a better feeling for it:"
   ]
  },
  {
   "cell_type": "code",
   "execution_count": null,
   "metadata": {},
   "outputs": [],
   "source": [
    "_df = df_split_timings_1604381[df_split_timings_1604381['timing_type'] == 'gradient work']\n",
    "_x = np.arange(len(_df))\n",
    "plt.bar(_x, _df['time [s]'])"
   ]
  },
  {
   "cell_type": "code",
   "execution_count": null,
   "metadata": {},
   "outputs": [],
   "source": [
    "_df['time [s]'].describe()"
   ]
  },
  {
   "cell_type": "markdown",
   "metadata": {},
   "source": [
    "# More timings\n",
    "\n",
    "In the next benchmarks, we added a lot more timing output that needs to be incorporated into the analysis:\n",
    "\n",
    "- Line search timings: single lines starting with `line_search: `\n",
    "- update_real timings on queue process\n",
    "- update_real timings on worker processes\n",
    "- absolute time stamps (in nanoseconds since epoch) for:\n",
    "    + start migrad (this line has changed!)\n",
    "    + end migrad (same)\n",
    "    + for each worker: lines that contain either two or three stamps:\n",
    "        - time of ask for task and time of rejection\n",
    "        - time of ask for task, time of start, time of end of task\n",
    "    + maybe the update_real/update_state ones as well, don't remember\n",
    "    \n",
    "As an additional book keeping complication, we need to run the large workspaces separately for different NumCPU parameters, both to speed up the runs (let them run on the cluster in parallel) and because we are currently getting crashes when running everything in one go; when running with 10 repeats per NumCPU the whole thing just stops after 4 repeats of the single-worker run; when running with 1 repeat it just crashes after the single-worker run (though it does write out the benchmark data to JSON, so that's promising for running the tasks separately)."
   ]
  },
  {
   "cell_type": "code",
   "execution_count": null,
   "metadata": {},
   "outputs": [],
   "source": []
  }
 ],
 "metadata": {
  "language_info": {
   "name": "python",
   "pygments_lexer": "ipython3"
  }
 },
 "nbformat": 4,
 "nbformat_minor": 2
}
