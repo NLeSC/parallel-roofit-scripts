{
 "cells": [
  {
   "cell_type": "code",
   "execution_count": null,
   "metadata": {},
   "outputs": [],
   "source": [
    "%matplotlib inline"
   ]
  },
  {
   "cell_type": "code",
   "execution_count": null,
   "metadata": {},
   "outputs": [],
   "source": [
    "%load_ext autoreload"
   ]
  },
  {
   "cell_type": "code",
   "execution_count": null,
   "metadata": {},
   "outputs": [],
   "source": [
    "%autoreload 3"
   ]
  },
  {
   "cell_type": "code",
   "execution_count": null,
   "metadata": {},
   "outputs": [],
   "source": [
    "import numpy as np\n",
    "import pandas as pd\n",
    "import matplotlib.pyplot as plt\n",
    "\n",
    "from RooFitMP_analysis import *"
   ]
  },
  {
   "cell_type": "code",
   "execution_count": null,
   "metadata": {},
   "outputs": [],
   "source": [
    "df_split_timings_1538069 = build_comb_df_split_timing_info('../rootbench/1538069.burrell.nikhef.nl.out')\n",
    "dfs_1538069 = load_result_file('../rootbench/1538069.burrell.nikhef.nl/RoofitMPworkspace_1549966927.json', match_y_axes=True)"
   ]
  },
  {
   "cell_type": "code",
   "execution_count": null,
   "metadata": {},
   "outputs": [],
   "source": [
    "df_total_timings_1538069 = dfs_1538069['BM_RooFit_MP_GradMinimizer_workspace_file']\n",
    "df_meta_1538069 = df_total_timings_1538069.drop(['real_time', 'real or ideal'], axis=1).dropna().set_index('benchmark_number', drop=True)"
   ]
  },
  {
   "cell_type": "code",
   "execution_count": null,
   "metadata": {},
   "outputs": [],
   "source": [
    "_df = combine_detailed_with_gbench_timings_by_name(df_total_timings_1538069,\n",
    "                                                   df_split_timings_1538069,\n",
    "                                                   {'update': 'update state',\n",
    "                                                    'gradient': 'gradient work',\n",
    "                                                    'terminate': 'terminate'},\n",
    "                                                   add_ideal=['gradient'])\n",
    "sns.relplot(data=_df,\n",
    "            x='NumCPU', y='time [s]', style=\"real or ideal\",\n",
    "            hue='timing_type',\n",
    "            markers=True, err_style=\"bars\", legend='full', kind=\"line\")"
   ]
  },
  {
   "cell_type": "code",
   "execution_count": null,
   "metadata": {},
   "outputs": [],
   "source": [
    "_timing_types = {\n",
    "    'update': 'update state',\n",
    "    'gradient': 'gradient work',\n",
    "    'terminate': 'terminate',\n",
    "    'partial derivatives': 'partial derivative'\n",
    "}\n",
    "_df = combine_detailed_with_gbench_timings_by_name(df_total_timings_1538069,\n",
    "                                                   df_split_timings_1538069,\n",
    "                                                   timing_types=_timing_types,\n",
    "                                                   add_ideal=['gradient'],\n",
    "                                                   exclude_from_rest=['partial derivatives'])\n",
    "sns.relplot(data=_df,\n",
    "            x='NumCPU', y='time [s]', style=\"real or ideal\",\n",
    "            hue='timing_type',\n",
    "            markers=True, err_style=\"bars\", legend='full', kind=\"line\")"
   ]
  },
  {
   "cell_type": "code",
   "execution_count": null,
   "metadata": {},
   "outputs": [],
   "source": []
  }
 ],
 "metadata": {
  "language_info": {
   "name": "python",
   "pygments_lexer": "ipython3"
  }
 },
 "nbformat": 4,
 "nbformat_minor": 2
}
