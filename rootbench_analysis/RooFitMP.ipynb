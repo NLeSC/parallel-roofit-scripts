{
 "cells": [
  {
   "cell_type": "code",
   "execution_count": null,
   "metadata": {},
   "outputs": [],
   "source": [
    "%matplotlib inline"
   ]
  },
  {
   "cell_type": "code",
   "execution_count": null,
   "metadata": {},
   "outputs": [],
   "source": [
    "%load_ext autoreload"
   ]
  },
  {
   "cell_type": "code",
   "execution_count": null,
   "metadata": {},
   "outputs": [],
   "source": [
    "%autoreload 3"
   ]
  },
  {
   "cell_type": "code",
   "execution_count": null,
   "metadata": {},
   "outputs": [],
   "source": [
    "import numpy as np\n",
    "import pandas as pd\n",
    "import glob\n",
    "import json\n",
    "from collections import defaultdict\n",
    "import matplotlib.pyplot as plt\n",
    "import seaborn as sns\n",
    "import altair as alt\n",
    "import bqplot.pyplot as blt\n",
    "import egp.plot"
   ]
  },
  {
   "cell_type": "code",
   "execution_count": null,
   "metadata": {},
   "outputs": [],
   "source": [
    "default_columns = ('bm_name', 'NumCPU', 'manual_time')\n",
    "\n",
    "columns = {'BM_RooFit_BinnedMultiProcGradient': ('bm_name', 'bins', 'NumCPU', 'manual_time'),\n",
    "           'BM_RooFit_1DUnbinnedGaussianMultiProcessGradMinimizer': default_columns,\n",
    "           'BM_RooFit_NDUnbinnedGaussianMultiProcessGradMinimizer': ('bm_name', 'NumCPU', 'dims', 'manual_time'),\n",
    "           'BM_RooFit_MP_GradMinimizer_workspace_file': default_columns,\n",
    "           'BM_RooFit_RooMinimizer_workspace_file': ('bm_name', 'manual_time')\n",
    "          }"
   ]
  },
  {
   "cell_type": "code",
   "execution_count": null,
   "metadata": {},
   "outputs": [],
   "source": [
    "# def remove_outliers_from_df(df, col='real_time', group='NumCPU'):\n",
    "#     values = df[col]\n",
    "#     values_grouped = df.groupby(group)[col]\n",
    "#     max_values_grouped = (values_grouped.mean() - np.nan_to_num(values_grouped.std())*3)\n",
    "\n",
    "#     filter_index = values >= max_values_grouped[df[group]].reset_index(level=0)[col]\n",
    "#     return df[filter_index]"
   ]
  },
  {
   "cell_type": "code",
   "execution_count": null,
   "metadata": {},
   "outputs": [],
   "source": [
    "def load_result(it=-1, **kwargs):\n",
    "    json_files = sorted(glob.glob('/Users/pbos/projects/apcocsm/roofit-dev/rootbench/cmake-build-debug/root/roofit/roofit/RoofitMultiproc_*.json'))\n",
    "    return load_result_file(json_files[it], **kwargs)\n",
    "\n",
    "def load_result_file(fn, show_dfs=False, figscale=6, plot_ideal=True, match_y_axes=False):\n",
    "    dfs = {}\n",
    "\n",
    "    with open(fn) as fh:\n",
    "        raw = json.load(fh)\n",
    "\n",
    "    print(raw['context'])\n",
    "    benchmarks = defaultdict(list)\n",
    "    benchmark_number = 0\n",
    "    for bm in raw['benchmarks']:\n",
    "        name = bm['name'].split('/')[0]\n",
    "        # order of benchmarks is important for merging with less structured sources (stdout) later on\n",
    "        # but only for real benchmarks, not the mean/median/stddev entries in the json file\n",
    "        if bm['name'].split('_')[-1] not in ('mean', 'median', 'stddev'):\n",
    "            bm['benchmark_number'] = benchmark_number\n",
    "            benchmark_number += 1\n",
    "        benchmarks[name].append(bm)\n",
    "\n",
    "    fig, ax = egp.plot.subplots(len(benchmarks), wrap=3,\n",
    "                               figsize=(len(benchmarks)*1.1*figscale, figscale),\n",
    "                               squeeze=False)\n",
    "    ax = ax.flatten()\n",
    "\n",
    "    for ix, (name, bmlist) in enumerate(benchmarks.items()):\n",
    "        dfs[name] = pd.DataFrame(bmlist)\n",
    "        df_names = pd.DataFrame(dfs[name].name.str.slice(start=len(\"BM_RooFit_\")).str.split('/').values.tolist(), columns=columns[name])\n",
    "        for c in columns[name][1:-1]:\n",
    "            df_names[c] = pd.to_numeric(df_names[c])\n",
    "        dfs[name] = dfs[name].join(df_names)\n",
    "        # Drop mean, median and std results, only keep normal timings (we do stats ourselves):\n",
    "        dfs[name] = dfs[name][dfs[name]['manual_time'] == 'manual_time']\n",
    "        dfs[name] = dfs[name].drop(['name', 'manual_time', 'cpu_time', 'iterations', 'time_unit'], axis=1)#, 'iterations'], axis=1)\n",
    "        if show_dfs:\n",
    "            display(dfs[name])\n",
    "        \n",
    "#         if remove_outliers:\n",
    "#             dfs[name] = remove_outliers_from_df(dfs[name])\n",
    "            \n",
    "        if name == 'BM_RooFit_BinnedMultiProcGradient':\n",
    "            hue = 'bins'\n",
    "        elif name == 'BM_RooFit_NDUnbinnedGaussianMultiProcessGradMinimizer':\n",
    "            hue = 'dims'\n",
    "        else:\n",
    "            hue = None\n",
    "        \n",
    "        # for single core runs, add NumCPU column:\n",
    "        if 'NumCPU' not in dfs[name].columns:\n",
    "            dfs[name]['NumCPU'] = 1\n",
    "            if plot_ideal:\n",
    "                print(\"Not plotting ideal, since this was only a single core run\")\n",
    "                plot_ideal = False\n",
    "        \n",
    "        dfs[name][\"real or ideal\"] = \"real\"\n",
    "        \n",
    "#         if hue is not None:\n",
    "#             leg_handles, leg_labels = ax[ix].get_legend_handles_labels()\n",
    "        \n",
    "        ax[ix].set_title(name)\n",
    "        \n",
    "        if plot_ideal:\n",
    "            if hue is not None:\n",
    "                min_single_core = dfs[name][dfs[name]['NumCPU'] == 1].groupby(hue)['real_time'].min()\n",
    "                df_ideal = min_single_core.to_frame('real_time')\n",
    "                df_ideal.reset_index(level=0, inplace=True)\n",
    "            else:\n",
    "                min_single_core = dfs[name][dfs[name]['NumCPU'] == 1]['real_time'].min()\n",
    "                df_ideal = pd.DataFrame({'real_time': [min_single_core]})\n",
    "            numCPU = np.unique(dfs[name]['NumCPU'])\n",
    "            numCPU.sort()\n",
    "            df_numCPU = pd.Series(numCPU, name='NumCPU').to_frame()\n",
    "            # necessary for doing a cross merge (cartesian product):\n",
    "            df_numCPU['key'] = 1\n",
    "            df_ideal['key'] = 1\n",
    "            df_ideal = df_ideal.merge(df_numCPU, on='key', how='outer').drop('key', axis=1)\n",
    "            df_ideal['real_time'] /= df_ideal['NumCPU']\n",
    "            df_ideal['real or ideal'] = \"ideal\"\n",
    "            dfs[name] = pd.concat([dfs[name], df_ideal], sort=False)\n",
    "        \n",
    "        dfs[name] = dfs[name].astype(dtype={'benchmark_number': 'Int64'})\n",
    "\n",
    "        sns.lineplot(data=dfs[name], x='NumCPU', y='real_time', hue=hue, style=\"real or ideal\",\n",
    "                     markers=True, err_style=\"bars\", legend='full',\n",
    "                     ax=ax[ix])\n",
    "\n",
    "#             sns.pointplot(data=df_ideal, x='NumCPU', y='ideal_time', hue=hue, ax=ax[ix], linestyles='--')\n",
    "            \n",
    "#             # remove duplicate legend labels by resetting to what they were before the ideal plot addition\n",
    "#             if hue is not None:\n",
    "#                 ax[ix].legend(leg_handles, leg_labels, title=hue)\n",
    "\n",
    "    if match_y_axes:\n",
    "        ymin, ymax = ax[0].get_ylim()\n",
    "        for axi in ax:\n",
    "            ymin = min(ymin, axi.get_ylim()[0])\n",
    "            ymax = max(ymax, axi.get_ylim()[1])\n",
    "\n",
    "        for axi in ax:\n",
    "            axi.set_ylim((ymin, ymax))\n",
    "    \n",
    "    return dfs"
   ]
  },
  {
   "cell_type": "code",
   "execution_count": null,
   "metadata": {},
   "outputs": [],
   "source": [
    "_ = load_result()"
   ]
  },
  {
   "cell_type": "code",
   "execution_count": null,
   "metadata": {},
   "outputs": [],
   "source": [
    "dfs = load_result_file('stbc-i5_marks/RoofitMultiproc_1545134908.json')"
   ]
  },
  {
   "cell_type": "code",
   "execution_count": null,
   "metadata": {},
   "outputs": [],
   "source": [
    "dfs.keys()"
   ]
  },
  {
   "cell_type": "code",
   "execution_count": null,
   "metadata": {},
   "outputs": [],
   "source": [
    "# dfs['BM_RooFit_BinnedMultiProcGradient']"
   ]
  },
  {
   "cell_type": "markdown",
   "metadata": {},
   "source": [
    "# Stoomboot"
   ]
  },
  {
   "cell_type": "code",
   "execution_count": null,
   "metadata": {},
   "outputs": [],
   "source": [
    "# op centos7 machine (zijn dus idd 64 cpus, had maar 8 gereserveerd!)\n",
    "dfs = load_result_file('../rootbench/1461350.burrell.nikhef.nl/RoofitMPworkspace_1547478971.json')"
   ]
  },
  {
   "cell_type": "markdown",
   "metadata": {},
   "source": [
    "# Stoomboot: meerdere repetitions"
   ]
  },
  {
   "cell_type": "code",
   "execution_count": null,
   "metadata": {},
   "outputs": [],
   "source": [
    "# op centos7 machine (nu wel ook 32 CPUs (= max) gereserveerd)\n",
    "dfs = load_result_file('../rootbench/1464718.burrell.nikhef.nl/RoofitMPworkspace_1547613964.json')"
   ]
  },
  {
   "cell_type": "code",
   "execution_count": null,
   "metadata": {},
   "outputs": [],
   "source": [
    "dfs"
   ]
  },
  {
   "cell_type": "markdown",
   "metadata": {},
   "source": [
    "## RooMinimizer also included\n",
    "The first run was without optConst = 2 and Minuit2 not activated on RooMinimizer. Probably Minuit1 is what causes the RooMinimizer run to be slightly slower than the single core GradMinimizer case."
   ]
  },
  {
   "cell_type": "code",
   "execution_count": null,
   "metadata": {},
   "outputs": [],
   "source": [
    "# op centos7 machine (nu wel ook 32 CPUs (= max) gereserveerd)\n",
    "dfs = load_result_file('../rootbench/1469398.burrell.nikhef.nl/RoofitMPworkspace_1547645550.json', match_y_axes=True)"
   ]
  },
  {
   "cell_type": "markdown",
   "metadata": {},
   "source": [
    "The next run does have optConst = 2 and minimizerType = Minuit2 for RooMinimizer. As we see, about 10x (!!!) faster than without optConst = 2. Also, the RooMinimizer case is now a bit faster again than the GradMinimizer case."
   ]
  },
  {
   "cell_type": "code",
   "execution_count": null,
   "metadata": {},
   "outputs": [],
   "source": [
    "dfs = load_result_file('../rootbench/1471528.burrell.nikhef.nl/RoofitMPworkspace_1547720829.json', match_y_axes=True)"
   ]
  },
  {
   "cell_type": "markdown",
   "metadata": {},
   "source": [
    "# Split up timings\n",
    "The out logs contain more detailed timing information, split up into communication (update step) and actual gradient calculation. We will now extract this information.\n",
    "\n",
    "The following functions are for outputs of git commit 6b98b0c0."
   ]
  },
  {
   "cell_type": "code",
   "execution_count": null,
   "metadata": {},
   "outputs": [],
   "source": [
    "# 6b98b0c0 (2019-01-16 14:18)\n",
    "\n",
    "def extract_split_timing_info(fn):\n",
    "    with open(fn, 'r') as fh:\n",
    "        lines = fh.read().splitlines()\n",
    "    \n",
    "    bm_iterations = []\n",
    "    \n",
    "    start_indices = []\n",
    "    end_indices = []\n",
    "    for ix, line in enumerate(lines):\n",
    "        if line == 'start migrad':\n",
    "            start_indices.append(ix)\n",
    "        elif line == 'end migrad':\n",
    "            end_indices.append(ix)\n",
    "    \n",
    "    start_indices_clean = []\n",
    "    for ix, index in enumerate(start_indices):\n",
    "        try:\n",
    "            if start_indices[ix + 1] != index + 1:\n",
    "                start_indices_clean.append(index)\n",
    "        except IndexError:\n",
    "            start_indices_clean.append(index)\n",
    "\n",
    "    for ix in range(len(start_indices_clean)):\n",
    "        bm_iterations.append(lines[start_indices_clean[ix]+1:end_indices[ix]])\n",
    "    \n",
    "    return bm_iterations\n",
    "\n",
    "\n",
    "def build_df_split_timing_run(timing_string_list):\n",
    "    data = {'time [s]': [], 'timing_type': []}\n",
    "    for line in timing_string_list:\n",
    "        words = line.split()\n",
    "        data['time [s]'].append(float(words[1][:-2]))\n",
    "        data['timing_type'].append('update state')\n",
    "        data['time [s]'].append(float(words[4][:-1]))\n",
    "        data['timing_type'].append('gradient work')\n",
    "    return pd.DataFrame(data)\n",
    "\n",
    "\n",
    "def build_dflist_split_timing_info(fn):\n",
    "    bm_iterations = extract_split_timing_info(fn)\n",
    "    \n",
    "    dflist = []\n",
    "    for bm in bm_iterations:\n",
    "        dflist.append(build_df_split_timing_run(bm))\n",
    "    \n",
    "    return dflist\n",
    "\n",
    "\n",
    "def build_comb_df_split_timing_info(fn):\n",
    "    dflist = build_dflist_split_timing_info(fn)\n",
    "    \n",
    "    ix = 0\n",
    "    for df in dflist:\n",
    "        df[\"benchmark_number\"] = ix\n",
    "        ix += 1\n",
    "    \n",
    "    return pd.concat(dflist)"
   ]
  },
  {
   "cell_type": "code",
   "execution_count": null,
   "metadata": {},
   "outputs": [],
   "source": [
    "df_split_timings_1471528 = build_comb_df_split_timing_info('../rootbench/1471528.burrell.nikhef.nl.out')"
   ]
  },
  {
   "cell_type": "code",
   "execution_count": null,
   "metadata": {},
   "outputs": [],
   "source": [
    "df_split_timings_1471528.columns"
   ]
  },
  {
   "cell_type": "code",
   "execution_count": null,
   "metadata": {},
   "outputs": [],
   "source": [
    "dfs_1471528 = load_result_file('../rootbench/1471528.burrell.nikhef.nl/RoofitMPworkspace_1547720829.json', match_y_axes=True)"
   ]
  },
  {
   "cell_type": "code",
   "execution_count": null,
   "metadata": {},
   "outputs": [],
   "source": [
    "df_total_timings_1471528 = dfs_1471528['BM_RooFit_MP_GradMinimizer_workspace_file']"
   ]
  },
  {
   "cell_type": "code",
   "execution_count": null,
   "metadata": {},
   "outputs": [],
   "source": [
    "df_meta_1471528 = df_total_timings_1471528.drop(['real_time', 'real or ideal'], axis=1).dropna().set_index('benchmark_number', drop=True)"
   ]
  },
  {
   "cell_type": "code",
   "execution_count": null,
   "metadata": {},
   "outputs": [],
   "source": [
    "df_meta_1471528.head()"
   ]
  },
  {
   "cell_type": "code",
   "execution_count": null,
   "metadata": {},
   "outputs": [],
   "source": [
    "def combine_split_total_timings_v1(df_total_timings, df_split_timings, calculate_rest=True):\n",
    "    df_meta = df_total_timings.drop(['real_time', 'real or ideal'], axis=1).dropna().set_index('benchmark_number', drop=True)\n",
    "    \n",
    "    df_all_timings = df_total_timings.rename(columns={'real_time': 'time [s]'})\n",
    "    df_all_timings['time [s]'] /= 1000  # convert to seconds\n",
    "    df_all_timings['timing_type'] = 'total'\n",
    "\n",
    "    df_split_sum = {}\n",
    "    for name, df in df_split_timings.items():\n",
    "        df_split_sum[name] = df.groupby('benchmark_number').sum().join(df_meta, on='benchmark_number').reset_index()\n",
    "        df_split_sum[name]['real or ideal'] = 'real'\n",
    "        df_split_sum[name]['timing_type'] = name\n",
    "\n",
    "    df_all_timings = pd.concat([df_all_timings,] + list(df_split_sum.values()))\n",
    "    \n",
    "    if calculate_rest:\n",
    "        rest_time = df_all_timings[(df_all_timings['timing_type'] == 'total') & (df_all_timings['real or ideal'] == 'real')].set_index('benchmark_number')['time [s]']\n",
    "        for name, df in df_split_sum.items():\n",
    "            rest_time = rest_time - df.set_index('benchmark_number')['time [s]']\n",
    "\n",
    "        df_rest_time = rest_time.to_frame().join(df_meta, on='benchmark_number').reset_index()\n",
    "        df_rest_time['timing_type'] = 'rest'\n",
    "        df_rest_time['real or ideal'] = 'real'\n",
    "\n",
    "        df_all_timings = df_all_timings.append(df_rest_time)\n",
    "    \n",
    "    return df_all_timings"
   ]
  },
  {
   "cell_type": "code",
   "execution_count": null,
   "metadata": {},
   "outputs": [],
   "source": [
    "df_update_timings_1471528 = df_split_timings_1471528[df_split_timings_1471528['timing_type'] == 'update state'].drop('timing_type', axis=1)\n",
    "df_gradient_timings_1471528 = df_split_timings_1471528[df_split_timings_1471528['timing_type'] == 'gradient work'].drop('timing_type', axis=1)\n",
    "\n",
    "df_all_timings_1471528 = combine_split_total_timings_v1(df_total_timings_1471528,\n",
    "                                                        {'update': df_update_timings_1471528,\n",
    "                                                         'gradient': df_gradient_timings_1471528})"
   ]
  },
  {
   "cell_type": "code",
   "execution_count": null,
   "metadata": {},
   "outputs": [],
   "source": [
    "sns.relplot(data=df_all_timings_1471528, x='NumCPU', y='time [s]', style=\"real or ideal\",\n",
    "#             col='timing_type',\n",
    "            hue='timing_type',\n",
    "            markers=True, err_style=\"bars\", legend='full', kind=\"line\")"
   ]
  },
  {
   "cell_type": "markdown",
   "metadata": {},
   "source": [
    "# Skype met Wouter\n",
    "_(Di 29 Jan, ~14h)_\n",
    "\n",
    "Kijken naar tabel met opgesplitste resultaten:\n",
    "- Opvallend: gradient time schaalt helemaal niet netjes! Dat zou je wel verwachten...\n",
    "- Update/communicatie tijd schaalt wel wat omhoog, maar zeker niet dominant.\n",
    "- \"Rest tijd\" wordt ook steeds meer.\n",
    "\n",
    "Checken:\n",
    "* BELANGRIJKSTE: Wat voor derivatives zijn het? Tijdsverdeling van derivatives. Met name tijd van langste berekeing; als dat meer is dan een 1/8e, dan is de ideal tijd ook anders!\n",
    "* Elke worker node welke derivatives hij gedaan heeft.\n",
    "* Seconden wall time van elke worker node --> load balancing.\n",
    "* Werk terug van de queue.\n",
    "* Wat is de derde component?\n",
    "* Ook breakdown van ND-Gaussians\n",
    "\n",
    "## Toevoeging van Inti (30 Jan)\n",
    "* Check ook of het aan caching kan liggen: zet caching uit (alwaysDirty)"
   ]
  },
  {
   "cell_type": "markdown",
   "metadata": {},
   "source": [
    "For the partial derivatives distribution, we'll need new timings, because now we only have per full gradient timings (of each gradient calculation, but still, useless here). For good measure, the variation in those timings can easily be seen to be very low:"
   ]
  },
  {
   "cell_type": "code",
   "execution_count": null,
   "metadata": {},
   "outputs": [],
   "source": [
    "df_gradient_timings_1471528.groupby('benchmark_number').std().plot()"
   ]
  },
  {
   "cell_type": "markdown",
   "metadata": {},
   "source": [
    "# 15-dim Gaussian (60 parameters; 12 feb 2019)"
   ]
  },
  {
   "cell_type": "code",
   "execution_count": null,
   "metadata": {},
   "outputs": [],
   "source": [
    "dfs_local1549950020 = load_result_file('/Users/pbos/projects/apcocsm/roofit-dev/rootbench/cmake-build-debug/root/roofit/roofit/RoofitMP_1549950020.json')"
   ]
  },
  {
   "cell_type": "markdown",
   "metadata": {},
   "source": [
    "This was on Macbook, so reasonable enough."
   ]
  },
  {
   "cell_type": "markdown",
   "metadata": {},
   "source": [
    "# Split out partial derivatives"
   ]
  },
  {
   "cell_type": "code",
   "execution_count": null,
   "metadata": {},
   "outputs": [],
   "source": [
    "# bd2783d0 (2019-01-30 13:42)\n",
    "\n",
    "def extract_split_timing_info_20190130(fn):\n",
    "    \"\"\"\n",
    "    Group lines by benchmark iteration, starting from migrad until\n",
    "    after the forks have been terminated.\n",
    "    \"\"\"\n",
    "    with open(fn, 'r') as fh:\n",
    "        lines = fh.read().splitlines()\n",
    "    \n",
    "    bm_iterations = []\n",
    "    \n",
    "    start_indices = []\n",
    "    end_indices = []\n",
    "    for ix, line in enumerate(lines):\n",
    "        if 'start migrad' in line:\n",
    "            if lines[ix-1] == 'start migrad':  # sometimes 'start migrad' appears twice\n",
    "                start_indices.pop()\n",
    "            start_indices.append(ix)\n",
    "            # sanity check:\n",
    "#             if line != 'start migrad':\n",
    "#                 print(line)\n",
    "        elif line[:11] == 'terminate: ':\n",
    "            end_indices.append(ix)\n",
    "    \n",
    "    if len(start_indices) != len(end_indices):\n",
    "        raise Exception(\"Number of start and end indices unequal!\")\n",
    "    \n",
    "    for ix in range(len(start_indices)):\n",
    "        bm_iterations.append(lines[start_indices[ix]+1:end_indices[ix]+1])\n",
    "    \n",
    "    return bm_iterations\n",
    "\n",
    "\n",
    "def group_timing_lines(bm_iteration_lines):\n",
    "    \"\"\"\n",
    "    Group lines (from one benchmark iteration) by gradient call,\n",
    "    specifying:\n",
    "    - Update time\n",
    "    - Gradient work time\n",
    "    - For all partial derivatives a sublist of all lines\n",
    "    Finally, the terminate time for the entire bm_iteration is also\n",
    "    returned (last line in the list).\n",
    "    \"\"\"    \n",
    "    gradient_calls = []\n",
    "    \n",
    "    start_indices = []\n",
    "    end_indices = []\n",
    "    for ix, line in enumerate(bm_iteration_lines[:-1]):  # -1: leave out terminate line\n",
    "        if line[:9] == 'worker_id':\n",
    "            if bm_iteration_lines[ix-1][:9] != 'worker_id':  # only use the first of these\n",
    "                start_indices.append(ix)\n",
    "        elif line[:12] == 'update_state':\n",
    "            end_indices.append(ix)\n",
    "        \n",
    "    for ix in range(len(start_indices)):\n",
    "        gradient_calls.append({\n",
    "            'gradient_total': bm_iteration_lines[end_indices[ix]],\n",
    "            'partial_derivatives': bm_iteration_lines[start_indices[ix]:end_indices[ix]]\n",
    "        })\n",
    "        \n",
    "    try:\n",
    "        terminate_line = bm_iteration_lines[-1]\n",
    "    except IndexError:\n",
    "        terminate_line = None\n",
    "\n",
    "    return gradient_calls, terminate_line\n",
    "\n",
    "\n",
    "def build_df_split_timing_run_20190130(timing_grouped_lines_list, terminate_line):\n",
    "    data = {'time [s]': [], 'timing_type': [], 'worker_id': [], 'task': []}\n",
    "    \n",
    "    for gradient_call_timings in timing_grouped_lines_list:\n",
    "        words = gradient_call_timings['gradient_total'].split()\n",
    "        \n",
    "        data['time [s]'].append(float(words[1][:-2]))\n",
    "        data['timing_type'].append('update state')\n",
    "        data['worker_id'].append(None)\n",
    "        data['task'].append(None)\n",
    "        \n",
    "        data['time [s]'].append(float(words[4][:-1]))\n",
    "        data['timing_type'].append('gradient work')\n",
    "        data['worker_id'].append(None)\n",
    "        data['task'].append(None)\n",
    "\n",
    "        for partial_derivative_line in gradient_call_timings['partial_derivatives']:\n",
    "            words = partial_derivative_line.split()\n",
    "            data['worker_id'].append(words[1][:-1])\n",
    "            data['task'].append(words[3][:-1])\n",
    "            data['time [s]'].append(float(words[7][:-1]))\n",
    "            data['timing_type'].append('partial derivative')\n",
    "\n",
    "    words = terminate_line.split()\n",
    "    data['time [s]'].append(float(words[1][:-1]))\n",
    "    data['timing_type'].append('terminate')\n",
    "    data['worker_id'].append(None)\n",
    "    data['task'].append(None)\n",
    "        \n",
    "    return pd.DataFrame(data)\n",
    "\n",
    "\n",
    "def build_dflist_split_timing_info_20190130(fn):\n",
    "    bm_iterations = extract_split_timing_info_20190130(fn)\n",
    "    \n",
    "    dflist = []\n",
    "    for bm in bm_iterations:\n",
    "        grouped_lines, terminate_line = group_timing_lines(bm)\n",
    "        if terminate_line is not None:\n",
    "            dflist.append(build_df_split_timing_run_20190130(grouped_lines, terminate_line))\n",
    "    \n",
    "    return dflist\n",
    "\n",
    "\n",
    "def build_comb_df_split_timing_info_20190130(fn):\n",
    "    dflist = build_dflist_split_timing_info_20190130(fn)\n",
    "    \n",
    "    ix = 0\n",
    "    for df in dflist:\n",
    "        df[\"benchmark_number\"] = ix\n",
    "        ix += 1\n",
    "    \n",
    "    return pd.concat(dflist)"
   ]
  },
  {
   "cell_type": "code",
   "execution_count": null,
   "metadata": {},
   "outputs": [],
   "source": [
    "df_split_timings_1538069 = build_comb_df_split_timing_info_20190130('../rootbench/1538069.burrell.nikhef.nl.out')"
   ]
  },
  {
   "cell_type": "code",
   "execution_count": null,
   "metadata": {},
   "outputs": [],
   "source": [
    "dfs_1538069 = load_result_file('../rootbench/1538069.burrell.nikhef.nl/RoofitMPworkspace_1549966927.json', match_y_axes=True)"
   ]
  },
  {
   "cell_type": "code",
   "execution_count": null,
   "metadata": {},
   "outputs": [],
   "source": [
    "df_total_timings_1538069 = dfs_1538069['BM_RooFit_MP_GradMinimizer_workspace_file']\n",
    "df_meta_1538069 = df_total_timings_1538069.drop(['real_time', 'real or ideal'], axis=1).dropna().set_index('benchmark_number', drop=True)"
   ]
  },
  {
   "cell_type": "code",
   "execution_count": null,
   "metadata": {},
   "outputs": [],
   "source": [
    "df_update_timings_1538069 = df_split_timings_1538069[df_split_timings_1538069['timing_type'] == 'update state'].drop('timing_type', axis=1)\n",
    "df_gradient_timings_1538069 = df_split_timings_1538069[df_split_timings_1538069['timing_type'] == 'gradient work'].drop('timing_type', axis=1)\n",
    "df_terminate_timings_1538069 = df_split_timings_1538069[df_split_timings_1538069['timing_type'] == 'terminate'].drop('timing_type', axis=1)\n",
    "\n",
    "df_all_timings_1538069 = combine_split_total_timings_v1(df_total_timings_1538069,\n",
    "                                                        {'update': df_update_timings_1538069,\n",
    "                                                         'gradient': df_gradient_timings_1538069,\n",
    "                                                         'terminate': df_terminate_timings_1538069})"
   ]
  },
  {
   "cell_type": "code",
   "execution_count": null,
   "metadata": {},
   "outputs": [],
   "source": [
    "sns.relplot(data=df_all_timings_1538069, x='NumCPU', y='time [s]', style=\"real or ideal\",\n",
    "#             col='timing_type',\n",
    "            hue='timing_type',\n",
    "            markers=True, err_style=\"bars\", legend='full', kind=\"line\")"
   ]
  },
  {
   "cell_type": "markdown",
   "metadata": {},
   "source": [
    "Ok, so terminate does have some impact, but it's not the end of the \"rest\" story, there's more there than just the line search steps."
   ]
  },
  {
   "cell_type": "markdown",
   "metadata": {},
   "source": [
    "Let's also check out the partial derivatives in total."
   ]
  },
  {
   "cell_type": "code",
   "execution_count": null,
   "metadata": {},
   "outputs": [],
   "source": [
    "df_partderiv_timings_1538069 = df_split_timings_1538069[df_split_timings_1538069['timing_type'] == 'partial derivative'].drop('timing_type', axis=1)\n",
    "\n",
    "sns.relplot(data=combine_split_total_timings_v1(df_total_timings_1538069,\n",
    "                                                        {'update': df_update_timings_1538069,\n",
    "                                                         'gradient': df_gradient_timings_1538069,\n",
    "                                                         'terminate': df_terminate_timings_1538069,\n",
    "                                                         'partial derivative': df_partderiv_timings_1538069}, calculate_rest=False), x='NumCPU', y='time [s]', style=\"real or ideal\",\n",
    "#             col='timing_type',\n",
    "            hue='timing_type',\n",
    "            markers=True, err_style=\"bars\", legend='full', kind=\"line\")"
   ]
  },
  {
   "cell_type": "code",
   "execution_count": null,
   "metadata": {},
   "outputs": [],
   "source": [
    "df_terminate_timings_1538069.join(df_meta_1538069, on='benchmark_number').groupby('NumCPU').mean()"
   ]
  },
  {
   "cell_type": "markdown",
   "metadata": {},
   "source": [
    "This is also interesting; apparently the total time spent on partial derivatives (just the calculation of the tasks on the workers!) goes up with number of workers!\n",
    "\n",
    "This could either be because the workers were for some reason disrupted, or because they lack some cache maybe."
   ]
  },
  {
   "cell_type": "markdown",
   "metadata": {},
   "source": [
    "## Partial derivatives in detail\n",
    "\n",
    "Let's see how the tasks are divided over the workers, split out by run-type, i.e. NumCPU.\n",
    "\n",
    "Splitting out by individual run is also good to check out, but that's 80 splits, while NumCPU is only 8."
   ]
  },
  {
   "cell_type": "code",
   "execution_count": null,
   "metadata": {},
   "outputs": [],
   "source": [
    "df_partderiv_timings_1538069['benchmark_number'].unique()"
   ]
  },
  {
   "cell_type": "code",
   "execution_count": null,
   "metadata": {},
   "outputs": [],
   "source": [
    "# failed plotting attempts; stacked bar plots are a bitch\n",
    "\n",
    "# fig, ax = plt.subplots(1,1, figsize=(14,8))\n",
    "# sns.distplot(pd, ax=ax)\n",
    "# ax.set_yscale('log')\n",
    "# pd_mp.groupby(['worker_id', 'task', 'benchmark_number'])['time_s'].mean().plot(kind='bar')\n",
    "# sns.catplot(data=pardiff_mp_1538069, kind='bar', sharey=True,\n",
    "#             col='benchmark_number', col_wrap=4,\n",
    "#             x='worker_id', y='time_s', hue='task')\n",
    "\n",
    "# altair: holy crap, this one EMPTY plot increases the size of the notebook by 128 MB!\n",
    "# alt.data_transformers.enable('default', max_rows=None)\n",
    "# alt.Chart(df_partderiv_timings_1538069).mark_bar().encode(\n",
    "#     x='worker_id',\n",
    "#     y='mean(time [s])',\n",
    "#     color='task'\n",
    "# )\n",
    "# alt.data_transformers.enable('default', max_rows=5000)"
   ]
  },
  {
   "cell_type": "code",
   "execution_count": null,
   "metadata": {},
   "outputs": [],
   "source": [
    "dfpd_1538069 = df_partderiv_timings_1538069.join(df_meta_1538069, on='benchmark_number')"
   ]
  },
  {
   "cell_type": "code",
   "execution_count": null,
   "metadata": {},
   "outputs": [],
   "source": [
    "dfpd_1538069_meanVSnumCPU = dfpd_1538069.groupby(['worker_id', 'task', 'NumCPU'])['time [s]'].mean().to_frame().reset_index()"
   ]
  },
  {
   "cell_type": "code",
   "execution_count": null,
   "metadata": {},
   "outputs": [],
   "source": [
    "dfpd_1538069_mean1numCPU = dfpd_1538069_meanVSnumCPU[dfpd_1538069_meanVSnumCPU['NumCPU'] == 1]\n",
    "dfpd_1538069_mean1n2numCPU = dfpd_1538069_meanVSnumCPU[dfpd_1538069_meanVSnumCPU['NumCPU'] < 3]"
   ]
  },
  {
   "cell_type": "code",
   "execution_count": null,
   "metadata": {},
   "outputs": [],
   "source": [
    "def plot_partial_derivative_per_worker(data, figsize=(16, 10)):    \n",
    "    # bqplot: also can't get it to work\n",
    "#     fig = blt.figure()\n",
    "#     bar = blt.bar(worker_ids, times, \n",
    "#                   padding=0.2,\n",
    "# #                   colors=tasks\n",
    "#                  )\n",
    "#     display(fig)\n",
    "\n",
    "#     width = 0.35\n",
    "\n",
    "    N_tasks = len(data['task'].unique())\n",
    "\n",
    "    colors = plt.cm.get_cmap('prism', N_tasks)\n",
    "    \n",
    "    fig, ax = plt.subplots(2, 4, sharey=True, figsize=figsize)\n",
    "    ax = ax.flatten()\n",
    "    for ix_n, n in enumerate(data['NumCPU'].unique()):\n",
    "        data_n = data[data['NumCPU'] == n]\n",
    "        for w in data_n['worker_id'].unique():\n",
    "            data_n_w = data_n[data_n['worker_id'] == w]\n",
    "            prev_time = 0\n",
    "            for task in data_n_w['task'].unique():\n",
    "                time = data_n_w[data_n_w['task'] == task]['time [s]']\n",
    "                if any(time):\n",
    "                    ax[ix_n].bar(w, time, bottom=prev_time, color=colors(int(task)),\n",
    "                                 linewidth=0.3,\n",
    "                                 edgecolor=(0.2,0.2,0.2)\n",
    "                                )\n",
    "                    prev_time = time"
   ]
  },
  {
   "cell_type": "code",
   "execution_count": null,
   "metadata": {},
   "outputs": [],
   "source": [
    "plot_partial_derivative_per_worker(dfpd_1538069_meanVSnumCPU)"
   ]
  },
  {
   "cell_type": "code",
   "execution_count": null,
   "metadata": {},
   "outputs": [],
   "source": [
    "len(df_split_timings_1538069.groupby('benchmark_number')), len(df_total_timings_1538069)"
   ]
  },
  {
   "cell_type": "code",
   "execution_count": null,
   "metadata": {},
   "outputs": [],
   "source": [
    "dfpd_1538069_sum_VSnumCPU = dfpd_1538069.groupby(['worker_id', 'task', 'NumCPU'])['time [s]'].sum().to_frame().reset_index()"
   ]
  },
  {
   "cell_type": "code",
   "execution_count": null,
   "metadata": {},
   "outputs": [],
   "source": [
    "plot_partial_derivative_per_worker(dfpd_1538069_sum_VSnumCPU)"
   ]
  },
  {
   "cell_type": "code",
   "execution_count": null,
   "metadata": {},
   "outputs": [],
   "source": [
    "def plot_partial_derivative_per_benchmark(data, figsize=(20, 10)):    \n",
    "    N_tasks = len(data['task'].unique())\n",
    "\n",
    "    colors = plt.cm.get_cmap('prism', N_tasks)\n",
    "    \n",
    "    fig, ax = plt.subplots(2, 5, sharey=True, figsize=figsize)\n",
    "    ax = ax.flatten()\n",
    "    for ix_b, b in enumerate(data['benchmark_number'].unique()):\n",
    "        data_b = data[data['benchmark_number'] == b]\n",
    "        for w in data_b['worker_id'].unique():\n",
    "            data_b_w = data_b[data_b['worker_id'] == w]\n",
    "            prev_time = 0\n",
    "            for task in data_b_w['task'].unique():\n",
    "                time = data_b_w[data_b_w['task'] == task]['time [s]']\n",
    "                if any(time):\n",
    "                    ax[ix_b].bar(w, time, bottom=prev_time, color=colors(int(task)),\n",
    "                                 linewidth=0.3,\n",
    "                                 edgecolor=(0.2,0.2,0.2)\n",
    "                                )\n",
    "                    prev_time = time"
   ]
  },
  {
   "cell_type": "code",
   "execution_count": null,
   "metadata": {},
   "outputs": [],
   "source": [
    "dfpd_1538069_sum_byall = dfpd_1538069.groupby(['benchmark_number', 'worker_id', 'task', 'NumCPU'])['time [s]'].sum().to_frame().reset_index()"
   ]
  },
  {
   "cell_type": "code",
   "execution_count": null,
   "metadata": {},
   "outputs": [],
   "source": [
    "plot_partial_derivative_per_benchmark(dfpd_1538069_sum_byall[dfpd_1538069_sum_byall['NumCPU'] == 3])"
   ]
  },
  {
   "cell_type": "markdown",
   "metadata": {},
   "source": [
    "## Mo 25 feb 2019\n",
    "\n",
    "It's still odd that those earlier summed bars don't go down so fast, e.g. that the sum of the two 2-core bars is almost twice the 1-core bar...\n",
    "\n",
    "Could there be one or two dominant runs there that skew the statistics? This should then show in the mean, or better the median, because the mean as we saw even earlier is also very odd. Let's try median then:"
   ]
  },
  {
   "cell_type": "code",
   "execution_count": null,
   "metadata": {},
   "outputs": [],
   "source": [
    "dfpd_1538069_medianVSnumCPU = dfpd_1538069.groupby(['worker_id', 'task', 'NumCPU'])['time [s]'].median().to_frame().reset_index()"
   ]
  },
  {
   "cell_type": "code",
   "execution_count": null,
   "metadata": {},
   "outputs": [],
   "source": [
    "plot_partial_derivative_per_worker(dfpd_1538069_medianVSnumCPU)"
   ]
  },
  {
   "cell_type": "markdown",
   "metadata": {},
   "source": [
    "Hmm, almost identical to the mean plot... What about min and max then?"
   ]
  },
  {
   "cell_type": "code",
   "execution_count": null,
   "metadata": {},
   "outputs": [],
   "source": [
    "dfpd_1538069_minVSnumCPU = dfpd_1538069.groupby(['worker_id', 'task', 'NumCPU'])['time [s]'].min().to_frame().reset_index()\n",
    "dfpd_1538069_maxVSnumCPU = dfpd_1538069.groupby(['worker_id', 'task', 'NumCPU'])['time [s]'].max().to_frame().reset_index()"
   ]
  },
  {
   "cell_type": "code",
   "execution_count": null,
   "metadata": {},
   "outputs": [],
   "source": [
    "plot_partial_derivative_per_worker(dfpd_1538069_minVSnumCPU)"
   ]
  },
  {
   "cell_type": "code",
   "execution_count": null,
   "metadata": {},
   "outputs": [],
   "source": [
    "plot_partial_derivative_per_worker(dfpd_1538069_maxVSnumCPU)q"
   ]
  },
  {
   "cell_type": "markdown",
   "metadata": {},
   "source": [
    "### Talk over Skype with Wouter (25 Feb 2019 10:00)\n",
    "It's still pretty unclear what's happening in these summarized plots.\n",
    "\n",
    "TODO:\n",
    "* Find out what the components are and label them in the plot\n",
    "* Start back at the basics: do 1 plot for every gradient, so we can see whether that load balances properly.\n",
    "* Check why the total times are only about 6 seconds while for the total plots its around 20 s..."
   ]
  },
  {
   "cell_type": "markdown",
   "metadata": {},
   "source": [
    "## Add gradient_nr\n",
    "The current parallel gradient splitout function doesn't add gradient number, which makes the above difficult, so let's correct that."
   ]
  },
  {
   "cell_type": "code",
   "execution_count": null,
   "metadata": {},
   "outputs": [],
   "source": [
    "def build_comb_df_split_timing_info_20190225(fn):\n",
    "    dflist = build_dflist_split_timing_info_20190130(fn)\n",
    "    \n",
    "    ix = 0\n",
    "    for df in dflist:\n",
    "        df_pardiff = df[df[\"timing_type\"] == \"partial derivative\"]\n",
    "        N_tasks = len(df_pardiff[\"task\"].unique())\n",
    "        N_gradients = len(df_pardiff) // N_tasks\n",
    "        gradient_indices = np.hstack(i * np.ones(N_tasks, dtype='int') for i in range(N_gradients))\n",
    "        \n",
    "        df[\"gradient number\"] = pd.Series(dtype='Int64')\n",
    "        df.loc[df[\"timing_type\"] == \"partial derivative\", \"gradient number\"] = gradient_indices\n",
    "        \n",
    "        df[\"benchmark_number\"] = ix\n",
    "        ix += 1\n",
    "    \n",
    "    return pd.concat(dflist)"
   ]
  },
  {
   "cell_type": "code",
   "execution_count": null,
   "metadata": {},
   "outputs": [],
   "source": [
    "df_split_timings_1538069_v2 = build_comb_df_split_timing_info_20190225('../rootbench/1538069.burrell.nikhef.nl.out')"
   ]
  },
  {
   "cell_type": "code",
   "execution_count": null,
   "metadata": {},
   "outputs": [],
   "source": [
    "def plot_partial_derivative_per_gradient(data, figsize=(20, 1.61*20), wrap=8):\n",
    "    N_tasks = len(data['task'].unique())\n",
    "\n",
    "    colors = plt.cm.get_cmap('jet', N_tasks)\n",
    "    \n",
    "    fig, ax = egp.plot.subplots(len(data['gradient number'].unique()), wrap=wrap,\n",
    "                                sharey=True, figsize=figsize)\n",
    "    try:\n",
    "        ax = ax.flatten()\n",
    "    except:\n",
    "        ax = [ax]\n",
    "    for b in data['benchmark_number'].unique():\n",
    "        data_b = data[data['benchmark_number'] == b]\n",
    "        for ix_g, g in enumerate(data_b['gradient number'].unique()):\n",
    "            data_b_g = data_b[data_b['gradient number'] == g]\n",
    "            for w in data_b_g['worker_id'].unique():\n",
    "                data_b_g_w = data_b_g[data_b_g['worker_id'] == w]\n",
    "                prev_time = 0\n",
    "                for task in data_b_g_w['task'].unique():\n",
    "                    time = data_b_g_w[data_b_g_w['task'] == task]['time [s]']\n",
    "                    if any(time):\n",
    "                        ax[ix_g].bar(w, time, bottom=prev_time, color=colors(int(task)),\n",
    "                                     linewidth=0.3,\n",
    "                                     edgecolor=(0.2,0.2,0.2)\n",
    "                                    )\n",
    "                        prev_time += float(time)"
   ]
  },
  {
   "cell_type": "code",
   "execution_count": null,
   "metadata": {},
   "outputs": [],
   "source": [
    "df_partderiv_timings_1538069_v2 = df_split_timings_1538069_v2[df_split_timings_1538069_v2['timing_type'] == 'partial derivative']\\\n",
    "                                    .drop('timing_type', axis=1)\n",
    "\n",
    "dfpd_1538069_v2 = df_partderiv_timings_1538069_v2.join(df_meta_1538069, on='benchmark_number')\n",
    "dfpd_1538069_v2_sumVSgradient = dfpd_1538069_v2.groupby(['worker_id', 'task', 'NumCPU',\n",
    "                                                         'benchmark_number', 'gradient number'])['time [s]'].sum() \\\n",
    "                                               .to_frame().reset_index()"
   ]
  },
  {
   "cell_type": "code",
   "execution_count": null,
   "metadata": {},
   "outputs": [],
   "source": [
    "full = dfpd_1538069_v2_sumVSgradient\n",
    "selection = full[full['NumCPU'] == 3]\n",
    "selection = selection[selection['benchmark_number'] == selection['benchmark_number'].iloc[0]]\n",
    "plot_partial_derivative_per_gradient(selection)"
   ]
  },
  {
   "cell_type": "markdown",
   "metadata": {},
   "source": [
    "Something was going wrong with the y-axis on the plots... Here's a test set:"
   ]
  },
  {
   "cell_type": "code",
   "execution_count": null,
   "metadata": {},
   "outputs": [],
   "source": [
    "df_fake = pd.DataFrame({'worker_id': [0, 0, 0, 1, 1, 1, 2, 2, 2],\n",
    "                        'task': range(9),\n",
    "                        'NumCPU': np.ones(9)*3,\n",
    "                        'benchmark_number': np.ones(9),\n",
    "                        'gradient number': np.ones(9),\n",
    "                        'time [s]': np.ones(9)})"
   ]
  },
  {
   "cell_type": "code",
   "execution_count": null,
   "metadata": {},
   "outputs": [],
   "source": [
    "plot_partial_derivative_per_gradient(df_fake, figsize=(7,7))"
   ]
  },
  {
   "cell_type": "markdown",
   "metadata": {},
   "source": [
    "This now (27 Feb 11:00) works, after some debugging above! Basically, we did `prev_time = time`, which is obviously wrong, but just `prev_time += time` also didn't cut it, because then you get mismatching pandas Series indices, which will only give you two bars: the first one at which prev_time is zero, and the second one at which prev_time is the first `time` value. After that, next `time` values will have a different index value than `prev_time`, so a `NaN` will be filled in for the missing index on which it's trying to sum to `prev_time`, meaning the result will be `NaN` for `bar`'s `bottom` parameter from that moment on.\n",
    "\n",
    "So the fix is to use `prev_time += float(time)` instead.\n",
    "\n",
    "This all also explains why in previous plots we saw that the total time did not seem to make sense: we kept plotting from the bottom, just replacing the bottom with the previous time, meaning the bars would be superimposed instead of actually stacked.\n",
    "\n",
    "... Anyway, now it works. Below the plots redone."
   ]
  },
  {
   "cell_type": "markdown",
   "metadata": {},
   "source": [
    "# Above plots redone with fixed bar plotting (27 Feb)"
   ]
  },
  {
   "cell_type": "code",
   "execution_count": null,
   "metadata": {},
   "outputs": [],
   "source": [
    "def plot_partial_derivative_per_worker(data, figsize=(16, 10)):    \n",
    "    N_tasks = len(data['task'].unique())\n",
    "\n",
    "    colors = plt.cm.get_cmap('prism', N_tasks)\n",
    "    \n",
    "    fig, ax = plt.subplots(2, 4, sharey=True, figsize=figsize)\n",
    "    ax = ax.flatten()\n",
    "    for ix_n, n in enumerate(data['NumCPU'].unique()):\n",
    "        data_n = data[data['NumCPU'] == n]\n",
    "        for w in data_n['worker_id'].unique():\n",
    "            data_n_w = data_n[data_n['worker_id'] == w]\n",
    "            prev_time = 0\n",
    "            for task in data_n_w['task'].unique():\n",
    "                time = data_n_w[data_n_w['task'] == task]['time [s]']\n",
    "                if any(time):\n",
    "                    ax[ix_n].bar(w, time, bottom=prev_time, color=colors(int(task)),\n",
    "                                 linewidth=0.3,\n",
    "                                 edgecolor=(0.2,0.2,0.2)\n",
    "                                )\n",
    "                    prev_time += float(time)\n",
    "\n",
    "\n",
    "def plot_partial_derivative_per_benchmark(data, figsize=(20, 10)):    \n",
    "    N_tasks = len(data['task'].unique())\n",
    "\n",
    "    colors = plt.cm.get_cmap('prism', N_tasks)\n",
    "    \n",
    "    fig, ax = plt.subplots(2, 5, sharey=True, figsize=figsize)\n",
    "    ax = ax.flatten()\n",
    "    for ix_b, b in enumerate(data['benchmark_number'].unique()):\n",
    "        data_b = data[data['benchmark_number'] == b]\n",
    "        for w in data_b['worker_id'].unique():\n",
    "            data_b_w = data_b[data_b['worker_id'] == w]\n",
    "            prev_time = 0\n",
    "            for task in data_b_w['task'].unique():\n",
    "                time = data_b_w[data_b_w['task'] == task]['time [s]']\n",
    "                if any(time):\n",
    "                    ax[ix_b].bar(w, time, bottom=prev_time, color=colors(int(task)),\n",
    "                                 linewidth=0.3,\n",
    "                                 edgecolor=(0.2,0.2,0.2)\n",
    "                                )\n",
    "                    prev_time += float(time)\n",
    "\n",
    "\n",
    "def plot_partial_derivative_per_gradient(data, figsize=(20, 1.61*20), wrap=8):\n",
    "    N_tasks = len(data['task'].unique())\n",
    "\n",
    "    colors = plt.cm.get_cmap('jet', N_tasks)\n",
    "    \n",
    "    fig, ax = egp.plot.subplots(len(data['gradient number'].unique()), wrap=wrap,\n",
    "                                sharey=True, figsize=figsize)\n",
    "    try:\n",
    "        ax = ax.flatten()\n",
    "    except:\n",
    "        ax = [ax]\n",
    "    for b in data['benchmark_number'].unique():\n",
    "        data_b = data[data['benchmark_number'] == b]\n",
    "        for ix_g, g in enumerate(data_b['gradient number'].unique()):\n",
    "            data_b_g = data_b[data_b['gradient number'] == g]\n",
    "            for w in data_b_g['worker_id'].unique():\n",
    "                data_b_g_w = data_b_g[data_b_g['worker_id'] == w]\n",
    "                prev_time = 0\n",
    "                for task in data_b_g_w['task'].unique():\n",
    "                    time = data_b_g_w[data_b_g_w['task'] == task]['time [s]']\n",
    "                    if any(time):\n",
    "                        ax[ix_g].bar(w, time, bottom=prev_time, color=colors(int(task)),\n",
    "                                     linewidth=0.3,\n",
    "                                     edgecolor=(0.2,0.2,0.2)\n",
    "                                    )\n",
    "                        prev_time += float(time)"
   ]
  },
  {
   "cell_type": "code",
   "execution_count": null,
   "metadata": {},
   "outputs": [],
   "source": [
    "plot_partial_derivative_per_worker(dfpd_1538069_meanVSnumCPU)"
   ]
  },
  {
   "cell_type": "code",
   "execution_count": null,
   "metadata": {},
   "outputs": [],
   "source": [
    "plot_partial_derivative_per_worker(dfpd_1538069_sum_VSnumCPU)"
   ]
  },
  {
   "cell_type": "code",
   "execution_count": null,
   "metadata": {},
   "outputs": [],
   "source": [
    "plot_partial_derivative_per_benchmark(dfpd_1538069_sum_byall[dfpd_1538069_sum_byall['NumCPU'] == 3])"
   ]
  },
  {
   "cell_type": "code",
   "execution_count": null,
   "metadata": {},
   "outputs": [],
   "source": [
    "plot_partial_derivative_per_worker(dfpd_1538069_medianVSnumCPU)"
   ]
  },
  {
   "cell_type": "code",
   "execution_count": null,
   "metadata": {},
   "outputs": [],
   "source": [
    "plot_partial_derivative_per_worker(dfpd_1538069_minVSnumCPU)"
   ]
  },
  {
   "cell_type": "code",
   "execution_count": null,
   "metadata": {},
   "outputs": [],
   "source": [
    "plot_partial_derivative_per_worker(dfpd_1538069_maxVSnumCPU)"
   ]
  },
  {
   "cell_type": "code",
   "execution_count": null,
   "metadata": {},
   "outputs": [],
   "source": [
    "full = dfpd_1538069_v2_sumVSgradient\n",
    "selection = full[full['NumCPU'] == 3]\n",
    "selection = selection[selection['benchmark_number'] == selection['benchmark_number'].iloc[0]]\n",
    "plot_partial_derivative_per_gradient(selection)"
   ]
  },
  {
   "cell_type": "code",
   "execution_count": null,
   "metadata": {},
   "outputs": [],
   "source": [
    "full = dfpd_1538069_v2_sumVSgradient\n",
    "selection = full[full['NumCPU'] == 1]\n",
    "selection = selection[selection['benchmark_number'] == selection['benchmark_number'].iloc[0]]\n",
    "plot_partial_derivative_per_gradient(selection, wrap=10, figsize=(20, 30))"
   ]
  },
  {
   "cell_type": "code",
   "execution_count": null,
   "metadata": {},
   "outputs": [],
   "source": [
    "full = dfpd_1538069_v2_sumVSgradient\n",
    "selection = full[full['NumCPU'] == 8]\n",
    "selection = selection[selection['benchmark_number'] == selection['benchmark_number'].iloc[0]]\n",
    "plot_partial_derivative_per_gradient(selection, wrap=5, figsize=(20, 40))"
   ]
  },
  {
   "cell_type": "markdown",
   "metadata": {},
   "source": [
    "# TODO (Jisk)\n",
    "\n",
    "Disable caching completely to see whether the partial derivatives total timing line stays flat; it should then, unless something else is going on!"
   ]
  },
  {
   "cell_type": "markdown",
   "metadata": {},
   "source": [
    "# 27 Feb 2019, 12:00, discussed new results with Wouter\n",
    "It's now clear that load balancing is not an issue.\n",
    "\n",
    "It is still unclear what is exactly causing the total time of the partial derivatives to rise. Is it caching? For this we could do the test Jisk suggested. Are we actually using caching at all?\n",
    "\n",
    "Also there are still some overhead sources unidentified.\n",
    "\n",
    "Now the important next step is to run on the large workspace, because this is what the whole project was about from the start. If we can get that from an hour to a few minutes, we're in business.\n",
    "\n",
    "## Todo for ACAT\n",
    "- Run on the large workspace from Carsten; if that scales well, we have a great message to deliver.\n",
    "    + Run with even more workers, we can go up to 32 on the new Stoomboot nodes. Maybe also include the 1-8 ones? Or just 1, 2:8:2 and then 16 and 32?\n",
    "- After that, go back to the shorter workspace and measure there the overhead in even more detail.\n",
    "    + Especially: the communication overhead on the queue process and on the workers.\n",
    "    + For this we'll need to do things slightly differently: we need to also print absolute times, because otherwise we cannot determine the total time the communication takes. This is going to be a bit complicated in any case, because first the master sends to queue (this we already measure), then the queue starts sending to the workers, but during that time the master can already start sending new things to the queue; the queue just won't receive it yet. The same thing will happen with the queue and workers. Sending and receiving does not happen in sync in general.\n",
    "- Check out what's happening with caching exactly.\n",
    "    + Explicitly disable it to see whether this caused the rise in partial derivatives total time.\n",
    "    + Check what it was before (either level 1 or 2 I presume) and try level 2 if it wasn't done before."
   ]
  },
  {
   "cell_type": "code",
   "execution_count": null,
   "metadata": {},
   "outputs": [],
   "source": []
  }
 ],
 "metadata": {
  "language_info": {
   "name": "python",
   "pygments_lexer": "ipython3"
  }
 },
 "nbformat": 4,
 "nbformat_minor": 2
}
