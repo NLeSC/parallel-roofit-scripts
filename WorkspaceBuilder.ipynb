{
 "cells": [
  {
   "cell_type": "code",
   "execution_count": null,
   "metadata": {},
   "outputs": [],
   "source": [
    "import ROOT\n",
    "ROOT.RooMsgService.instance().setGlobalKillBelow(5)"
   ]
  },
  {
   "cell_type": "code",
   "execution_count": null,
   "metadata": {},
   "outputs": [],
   "source": [
    "meas = ROOT.RooStats.HistFactory.Measurement( \"meas\", \"meas\" )\n",
    "meas.SetPOI( \"SignalStrength\" )\n",
    "meas.SetLumi( 1.0 )\n",
    "meas.SetLumiRelErr( 0.02 )\n",
    "meas.AddConstantParam( \"Lumi\" )"
   ]
  },
  {
   "cell_type": "markdown",
   "metadata": {},
   "source": [
    "## Make some example data\n",
    "\n",
    "expected and observed data, one bin, 10% more events observed than expected so SignalStrength should be 1.1"
   ]
  },
  {
   "cell_type": "code",
   "execution_count": null,
   "metadata": {},
   "outputs": [],
   "source": [
    "data_hist = ROOT.TH1D(\"observed\",\"observed\",1,0,1)\n",
    "for i in range(1100):\n",
    "    data_hist.Fill(0.5)\n",
    "signal_hist = ROOT.TH1D(\"above_expected\",\"above_expected\",1,0,1)\n",
    "for i in range(100):\n",
    "    signal_hist.Fill(0.5)\n",
    "model_hist = ROOT.TH1D(\"expected\",\"expected\",1,0,1)\n",
    "for i in range(1000):\n",
    "    model_hist.Fill(0.5)"
   ]
  },
  {
   "cell_type": "markdown",
   "metadata": {},
   "source": [
    "## Create a measurement  and fill it."
   ]
  },
  {
   "cell_type": "code",
   "execution_count": null,
   "metadata": {},
   "outputs": [],
   "source": [
    "chan = ROOT.RooStats.HistFactory.Channel( \"Region1\" )\n",
    "chan.SetStatErrorConfig(0.05, \"Poisson\")\n",
    "chan.SetData( data_hist )"
   ]
  },
  {
   "cell_type": "code",
   "execution_count": null,
   "metadata": {},
   "outputs": [],
   "source": [
    "model = ROOT.RooStats.HistFactory.Sample( \"model\" )\n",
    "model.SetNormalizeByTheory( False )\n",
    "model.SetHisto( model_hist )\n",
    "\n",
    "signal = ROOT.RooStats.HistFactory.Sample( \"signal\" )\n",
    "signal.SetNormalizeByTheory( False )\n",
    "signal.SetHisto( signal_hist )"
   ]
  },
  {
   "cell_type": "markdown",
   "metadata": {},
   "source": [
    "And add our parameter of interest with a sensible bound."
   ]
  },
  {
   "cell_type": "code",
   "execution_count": null,
   "metadata": {},
   "outputs": [],
   "source": [
    "signal.AddNormFactor( \"SignalStrength\", 1, 0, 3)"
   ]
  },
  {
   "cell_type": "markdown",
   "metadata": {},
   "source": [
    "and one nuisance parameter"
   ]
  },
  {
   "cell_type": "code",
   "execution_count": null,
   "metadata": {},
   "outputs": [],
   "source": [
    "uncertainty_up   = 1000 * 1.1\n",
    "uncertainty_down = 1000 * 0.9\n",
    "signal.AddOverallSys( \"signal_norm_uncertainty\",  uncertainty_down*.1, uncertainty_up*.1 )\n",
    "model.AddOverallSys( \"background_norm_uncertainty\",  uncertainty_down,uncertainty_up )"
   ]
  },
  {
   "cell_type": "code",
   "execution_count": null,
   "metadata": {},
   "outputs": [],
   "source": [
    "sig_np_up = signal_hist.Clone()\n",
    "sig_np_down = signal_hist.Clone()\n",
    "bkg_np_up = model_hist.Clone()\n",
    "bkg_np_down = model_hist.Clone()\n",
    "for b in range(1,sig_np_up.GetNbinsX()+1):\n",
    "    sig_np_up.SetBinContent(b, sig_np_up.GetBinContent(b) + sig_np_up.GetBinContent(b) * .1 * b)\n",
    "    sig_np_down.SetBinContent(b, sig_np_down.GetBinContent(b) - sig_np_down.GetBinContent(b) * 0.1 * b)\n",
    "    bkg_np_up.SetBinContent(b, bkg_np_up.GetBinContent(b) + bkg_np_up.GetBinContent(b) * .1 * b)\n",
    "    bkg_np_down.SetBinContent(b, bkg_np_down.GetBinContent(b) - bkg_np_down.GetBinContent(b) * 0.1 * b)"
   ]
  },
  {
   "cell_type": "code",
   "execution_count": null,
   "metadata": {},
   "outputs": [],
   "source": [
    "signal_shape = ROOT.RooStats.HistFactory.HistoSys(\"signal_shape\")\n",
    "signal_shape.SetHistoHigh( sig_np_up )\n",
    "signal_shape.SetHistoLow( sig_np_down )\n",
    "signal.AddHistoSys( signal_shape )\n",
    "\n",
    "background_shape = ROOT.RooStats.HistFactory.HistoSys(\"background_shape\")\n",
    "background_shape.SetHistoHigh( bkg_np_up )\n",
    "background_shape.SetHistoLow( bkg_np_down )\n",
    "model.AddHistoSys( background_shape )"
   ]
  },
  {
   "cell_type": "markdown",
   "metadata": {},
   "source": [
    "And add to measuremnet"
   ]
  },
  {
   "cell_type": "code",
   "execution_count": null,
   "metadata": {},
   "outputs": [],
   "source": [
    "chan.AddSample( model )\n",
    "chan.AddSample( signal )\n",
    "meas.AddChannel( chan )"
   ]
  },
  {
   "cell_type": "markdown",
   "metadata": {},
   "source": [
    "## Make workspace!"
   ]
  },
  {
   "cell_type": "code",
   "execution_count": null,
   "metadata": {},
   "outputs": [],
   "source": [
    "hist2workspace = ROOT.RooStats.HistFactory.HistoToWorkspaceFactoryFast(meas)"
   ]
  },
  {
   "cell_type": "code",
   "execution_count": null,
   "metadata": {},
   "outputs": [],
   "source": [
    "workspace = hist2workspace.MakeSingleChannelModel( meas, chan )"
   ]
  },
  {
   "cell_type": "markdown",
   "metadata": {},
   "source": [
    "ok this was put into a function..."
   ]
  },
  {
   "cell_type": "code",
   "execution_count": null,
   "metadata": {},
   "outputs": [],
   "source": [
    "from Builder import get_workspace"
   ]
  },
  {
   "cell_type": "code",
   "execution_count": null,
   "metadata": {},
   "outputs": [],
   "source": [
    "workspace = get_workspace(nchannels = 1, events = 1000, nbins = 1)"
   ]
  },
  {
   "cell_type": "markdown",
   "metadata": {},
   "source": [
    "ok that seemed to work"
   ]
  },
  {
   "cell_type": "code",
   "execution_count": null,
   "metadata": {},
   "outputs": [],
   "source": [
    "workspace.SetName('BinnedWorkspace')\n",
    "workspace.writeToFile(\"output/workspace{}channels{}events{}bins{}nps.root\".format(1,1000,1,0))"
   ]
  },
  {
   "cell_type": "raw",
   "metadata": {},
   "source": [
    "for events in [1000,1000000,10000000]:\n",
    "    for chans in [1,2,3,4,5]:\n",
    "        for bins in [1,10,100]:\n",
    "            for nps in [0,1,3]:\n",
    "                workspace = get_workspace(nchannels = chans, events = events, nbins = bins, nnps = nps)\n",
    "                workspace.SetName('BinnedWorkspace')\n",
    "                workspace.writeToFile(\"output/workspace{}channels{}events{}bins{}nps.root\".format(chans, events, bins, nps))"
   ]
  },
  {
   "cell_type": "code",
   "execution_count": null,
   "metadata": {},
   "outputs": [],
   "source": [
    "events = 1000\n",
    "chans = 1\n",
    "nps = 0\n",
    "for bins in [1,10,20,30,40,50,60,70,80,90,100]:\n",
    "    workspace = get_workspace(nchannels = chans, events = events, nbins = bins, nnps = nps)\n",
    "    workspace.SetName('BinnedWorkspace')\n",
    "    workspace.writeToFile(\"output/workspace{}channels{}events{}bins{}nps.root\".format(chans, events, bins, nps))"
   ]
  },
  {
   "cell_type": "code",
   "execution_count": null,
   "metadata": {},
   "outputs": [],
   "source": [
    "events = 1000\n",
    "chans = 1\n",
    "nps = 0\n",
    "bins = 1\n",
    "for events in [10,100,1000,10000,100000,1000000,10000000]:\n",
    "    workspace = get_workspace(nchannels = chans, events = events, nbins = bins, nnps = nps)\n",
    "    workspace.SetName('BinnedWorkspace')\n",
    "    workspace.writeToFile(\"output/workspace{}channels{}events{}bins{}nps.root\".format(chans, events, bins, nps))"
   ]
  },
  {
   "cell_type": "code",
   "execution_count": null,
   "metadata": {},
   "outputs": [],
   "source": [
    "events = 1000\n",
    "chans = 1\n",
    "nps = 0\n",
    "bins = 1\n",
    "for nps in range(10):\n",
    "    workspace = get_workspace(nchannels = chans, events = events, nbins = bins, nnps = nps)\n",
    "    workspace.SetName('BinnedWorkspace')\n",
    "    workspace.writeToFile(\"output/workspace{}channels{}events{}bins{}nps.root\".format(chans, events, bins, nps))"
   ]
  },
  {
   "cell_type": "code",
   "execution_count": null,
   "metadata": {},
   "outputs": [],
   "source": []
  }
 ],
 "metadata": {
  "language_info": {
   "name": "python",
   "pygments_lexer": "ipython3"
  }
 },
 "nbformat": 4,
 "nbformat_minor": 2
}
