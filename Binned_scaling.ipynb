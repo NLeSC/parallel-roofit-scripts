{
 "cells": [
  {
   "cell_type": "code",
   "execution_count": null,
   "metadata": {},
   "outputs": [],
   "source": [
    "import ROOT\n",
    "ROOT.RooMsgService.instance().setGlobalKillBelow(5)\n",
    "import time\n",
    "import matplotlib"
   ]
  },
  {
   "cell_type": "code",
   "execution_count": null,
   "metadata": {},
   "outputs": [],
   "source": [
    "infile = ROOT.TFile.Open(\"output/workspace1channels1000events1bins0nps.root\")\n",
    "w = infile.Get(\"BinnedWorkspace\")\n",
    "mc = w.obj(\"ModelConfig\")\n",
    "pdfsum = mc.GetPdf() \n",
    "data = w.data(\"obsData\")\n",
    "x = w.var(\"obs_x_Region0\")\n",
    "mc.LoadSnapshot()"
   ]
  },
  {
   "cell_type": "code",
   "execution_count": null,
   "metadata": {},
   "outputs": [],
   "source": [
    "nll = pdfsum.createNLL(data, ROOT.RooFit.NumCPU(2,0))"
   ]
  },
  {
   "cell_type": "code",
   "execution_count": null,
   "metadata": {},
   "outputs": [],
   "source": [
    "m  = ROOT.RooMinuit(nll)\n",
    "m.migrad()\n",
    "m.hesse()\n",
    "m.minos(mc.GetParametersOfInterest())"
   ]
  },
  {
   "cell_type": "code",
   "execution_count": null,
   "metadata": {},
   "outputs": [],
   "source": [
    "def NLL(ws, N_CPUs):\n",
    "    data = ws.data(\"obsData\")\n",
    "    pdf = ws.obj(\"ModelConfig\").GetPdf()\n",
    "    nll = pdf.createNLL(data, ROOT.RooFit.NumCPU(2,0)) \n",
    "    m  = ROOT.RooMinuit(nll)\n",
    "    m.migrad()\n",
    "    m.hesse()\n",
    "    m.minos(ws.obj(\"ModelConfig\").GetParametersOfInterest())\n",
    "    return nll"
   ]
  },
  {
   "cell_type": "code",
   "execution_count": null,
   "metadata": {},
   "outputs": [],
   "source": [
    "eventtimes = []\n",
    "for events in [10,100,1000,10000,100000,1000000,10000000]:\n",
    "    av_time = []\n",
    "    infile = ROOT.TFile.Open(\"output/workspace{}channels{}events{}bins{}nps.root\".format(1, events, 1, 0))\n",
    "    w = infile.Get(\"BinnedWorkspace\")\n",
    "    start = time.time()\n",
    "    NLL(w,1)\n",
    "    end = time.time()\n",
    "    av_time.append(float(end) - float(start))\n",
    "    eventtimes.append([sum(av_time)/float(len(av_time)),events])\n",
    "    infile.Close()"
   ]
  },
  {
   "cell_type": "code",
   "execution_count": null,
   "metadata": {},
   "outputs": [],
   "source": [
    "bintimes = []\n",
    "for bins in [1,10,20,30,40,50,60,70,80,90,100]:\n",
    "    av_time = []\n",
    "    infile = ROOT.TFile.Open(\"output/workspace{}channels{}events{}bins{}nps.root\".format(1, 1000, bins, 0))\n",
    "    w = infile.Get(\"BinnedWorkspace\")\n",
    "    #for i in range(3):    \n",
    "    start = time.time()\n",
    "    NLL(w,1)\n",
    "    end = time.time()\n",
    "    av_time.append(float(end) - float(start))\n",
    "    bintimes.append([sum(av_time)/float(len(av_time)),bins])\n",
    "    infile.Close()"
   ]
  },
  {
   "cell_type": "code",
   "execution_count": null,
   "metadata": {},
   "outputs": [],
   "source": [
    "chantimes = []\n",
    "for chans in [1,2,3,4,5]:\n",
    "    #for bins in [1,10,100]:\n",
    "    #        for nps in [0,1,3]:\n",
    "    av_time = []\n",
    "    infile = ROOT.TFile.Open(\"output/workspace{}channels{}events{}bins{}nps.root\".format(chans, 1000, 1, 1))\n",
    "    w = infile.Get(\"BinnedWorkspace\")\n",
    "    #for i in range(5):\n",
    "    start = time.time()\n",
    "    NLL(w,1)\n",
    "    end = time.time()\n",
    "    av_time.append(float(end) - float(start))\n",
    "\n",
    "    chantimes.append([sum(av_time)/float(len(av_time)),chans])\n",
    "    infile.Close()"
   ]
  },
  {
   "cell_type": "code",
   "execution_count": null,
   "metadata": {},
   "outputs": [],
   "source": [
    "nptimes = []\n",
    "for nps in range(10):\n",
    "    av_time = []\n",
    "    for i in range(5):\n",
    "        infile = ROOT.TFile.Open(\"output/workspace{}channels{}events{}bins{}nps.root\".format(1, 1000, 1, nps))\n",
    "        w = infile.Get(\"BinnedWorkspace\")\n",
    "        start = time.time()\n",
    "        NLL(w,1)\n",
    "        end = time.time()\n",
    "        av_time.append(float(end) - float(start))\n",
    "        infile.Close()\n",
    "    nptimes.append([sum(av_time)/float(len(av_time)),nps])"
   ]
  },
  {
   "cell_type": "code",
   "execution_count": null,
   "metadata": {},
   "outputs": [],
   "source": [
    "import matplotlib.pyplot as plt"
   ]
  },
  {
   "cell_type": "code",
   "execution_count": null,
   "metadata": {},
   "outputs": [],
   "source": [
    "etimes = [(t[0]) for t in eventtimes]\n",
    "btimes = [(t[0]) for t in bintimes]\n",
    "ctimes = [(t[0]) for t in chantimes]\n",
    "ntimes = [(t[0]) for t in nptimes]\n",
    "plt.plot(etimes)\n",
    "plt.plot(btimes)\n",
    "plt.plot(ctimes)\n",
    "plt.plot(ntimes)\n",
    "plt.show()"
   ]
  },
  {
   "cell_type": "code",
   "execution_count": null,
   "metadata": {},
   "outputs": [],
   "source": []
  }
 ],
 "metadata": {
  "language_info": {
   "name": "python",
   "pygments_lexer": "ipython3"
  }
 },
 "nbformat": 4,
 "nbformat_minor": 2
}
